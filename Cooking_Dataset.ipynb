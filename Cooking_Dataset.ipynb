{
 "cells": [
  {
   "cell_type": "code",
   "execution_count": 37,
   "metadata": {},
   "outputs": [
    {
     "name": "stdout",
     "output_type": "stream",
     "text": [
      "            cuisine     id                                        ingredients\n",
      "0             greek  10259  [romaine lettuce, black olives, grape tomatoes...\n",
      "1       southern_us  25693  [plain flour, ground pepper, salt, tomatoes, g...\n",
      "2          filipino  20130  [eggs, pepper, salt, mayonaise, cooking oil, g...\n",
      "3            indian  22213                [water, vegetable oil, wheat, salt]\n",
      "4            indian  13162  [black pepper, shallots, cornflour, cayenne pe...\n",
      "5          jamaican   6602  [plain flour, sugar, butter, eggs, fresh ginge...\n",
      "6           spanish  42779  [olive oil, salt, medium shrimp, pepper, garli...\n",
      "7           italian   3735  [sugar, pistachio nuts, white almond bark, flo...\n",
      "8           mexican  16903  [olive oil, purple onion, fresh pineapple, por...\n",
      "9           italian  12734  [chopped tomatoes, fresh basil, garlic, extra-...\n",
      "10          italian   5875  [pimentos, sweet pepper, dried oregano, olive ...\n",
      "11          chinese  45887  [low sodium soy sauce, fresh ginger, dry musta...\n",
      "12          italian   2698  [Italian parsley leaves, walnuts, hot red pepp...\n",
      "13          mexican  41995  [ground cinnamon, fresh cilantro, chili powder...\n",
      "14          italian  31908  [fresh parmesan cheese, butter, all-purpose fl...\n",
      "15           indian  24717  [tumeric, vegetable stock, tomatoes, garam mas...\n",
      "16          british  34466  [greek yogurt, lemon curd, confectioners sugar...\n",
      "17          italian   1420  [italian seasoning, broiler-fryer chicken, may...\n",
      "18             thai   2941   [sugar, hot chili, asian fish sauce, lime juice]\n",
      "19       vietnamese   8152  [soy sauce, vegetable oil, red bell pepper, ch...\n",
      "20             thai  13121  [pork loin, roasted peanuts, chopped cilantro ...\n",
      "21          mexican  40523  [roma tomatoes, kosher salt, purple onion, jal...\n",
      "22      southern_us  40989  [low-fat mayonnaise, pepper, salt, baking pota...\n",
      "23          chinese  29630  [sesame seeds, red pepper, yellow peppers, wat...\n",
      "24          italian  49136  [marinara sauce, flat leaf parsley, olive oil,...\n",
      "25          chinese  26705  [sugar, lo mein noodles, salt, chicken broth, ...\n",
      "26     cajun_creole  27976  [herbs, lemon juice, fresh tomatoes, paprika, ...\n",
      "27          italian  22087  [ground black pepper, butter, sliced mushrooms...\n",
      "28          chinese   9197  [green bell pepper, egg roll wrappers, sweet a...\n",
      "29          mexican   1299  [flour tortillas, cheese, breakfast sausages, ...\n",
      "...             ...    ...                                                ...\n",
      "39744         greek   5680  [extra-virgin olive oil, oregano, potatoes, ga...\n",
      "39745       spanish   5511  [quinoa, extra-virgin olive oil, fresh thyme l...\n",
      "39746        indian  32051  [clove, bay leaves, ginger, chopped cilantro, ...\n",
      "39747      moroccan   5119  [water, sugar, grated lemon zest, butter, pitt...\n",
      "39748       italian   9526  [sea salt, pizza doughs, all-purpose flour, co...\n",
      "39749       mexican  45599  [kosher salt, minced onion, tortilla chips, su...\n",
      "39750       mexican  49670  [ground black pepper, chicken breasts, salsa, ...\n",
      "39751      moroccan  30735  [olive oil, cayenne pepper, chopped cilantro f...\n",
      "39752   southern_us   5911  [self rising flour, milk, white sugar, butter,...\n",
      "39753       italian  33294  [rosemary sprigs, lemon zest, garlic cloves, g...\n",
      "39754    vietnamese  27082  [jasmine rice, bay leaves, sticky rice, rotiss...\n",
      "39755        indian  36337  [mint leaves, cilantro leaves, ghee, tomatoes,...\n",
      "39756       mexican  15508  [vegetable oil, cinnamon sticks, water, all-pu...\n",
      "39757         greek  34331  [red bell pepper, garlic cloves, extra-virgin ...\n",
      "39758         greek  47387  [milk, salt, ground cayenne pepper, ground lam...\n",
      "39759        korean  12153  [red chili peppers, sea salt, onions, water, c...\n",
      "39760   southern_us  41840  [butter, large eggs, cornmeal, baking powder, ...\n",
      "39761       chinese   6487  [honey, chicken breast halves, cilantro leaves...\n",
      "39762        indian  26646  [curry powder, salt, chicken, water, vegetable...\n",
      "39763       italian  44798  [fettuccine pasta, low-fat cream cheese, garli...\n",
      "39764       mexican   8089  [chili powder, worcestershire sauce, celery, r...\n",
      "39765        indian   6153  [coconut, unsweetened coconut milk, mint leave...\n",
      "39766         irish  25557  [rutabaga, ham, thick-cut bacon, potatoes, fre...\n",
      "39767       italian  24348  [low-fat sour cream, grated parmesan cheese, s...\n",
      "39768       mexican   7377  [shredded cheddar cheese, crushed cheese crack...\n",
      "39769         irish  29109  [light brown sugar, granulated sugar, butter, ...\n",
      "39770       italian  11462  [KRAFT Zesty Italian Dressing, purple onion, b...\n",
      "39771         irish   2238  [eggs, citrus fruit, raisins, sourdough starte...\n",
      "39772       chinese  41882  [boneless chicken skinless thigh, minced garli...\n",
      "39773       mexican   2362  [green chile, jalapeno chilies, onions, ground...\n",
      "\n",
      "[39774 rows x 3 columns]\n"
     ]
    }
   ],
   "source": [
    "import json\n",
    "from pprint import pprint\n",
    "import pandas as pd\n",
    "with open('train/cooking_data.json') as data_file:\n",
    "    data_train = pd.read_json(data_file)\n",
    "print (data_train)"
   ]
  },
  {
   "cell_type": "code",
   "execution_count": 39,
   "metadata": {},
   "outputs": [
    {
     "name": "stdout",
     "output_type": "stream",
     "text": [
      "            cuisine     id                                        ingredients  \\\n",
      "0             greek  10259  [romaine lettuce, black olives, grape tomatoes...   \n",
      "1       southern_us  25693  [plain flour, ground pepper, salt, tomatoes, g...   \n",
      "2          filipino  20130  [eggs, pepper, salt, mayonaise, cooking oil, g...   \n",
      "3            indian  22213                [water, vegetable oil, wheat, salt]   \n",
      "4            indian  13162  [black pepper, shallots, cornflour, cayenne pe...   \n",
      "5          jamaican   6602  [plain flour, sugar, butter, eggs, fresh ginge...   \n",
      "6           spanish  42779  [olive oil, salt, medium shrimp, pepper, garli...   \n",
      "7           italian   3735  [sugar, pistachio nuts, white almond bark, flo...   \n",
      "8           mexican  16903  [olive oil, purple onion, fresh pineapple, por...   \n",
      "9           italian  12734  [chopped tomatoes, fresh basil, garlic, extra-...   \n",
      "10          italian   5875  [pimentos, sweet pepper, dried oregano, olive ...   \n",
      "11          chinese  45887  [low sodium soy sauce, fresh ginger, dry musta...   \n",
      "12          italian   2698  [Italian parsley leaves, walnuts, hot red pepp...   \n",
      "13          mexican  41995  [ground cinnamon, fresh cilantro, chili powder...   \n",
      "14          italian  31908  [fresh parmesan cheese, butter, all-purpose fl...   \n",
      "15           indian  24717  [tumeric, vegetable stock, tomatoes, garam mas...   \n",
      "16          british  34466  [greek yogurt, lemon curd, confectioners sugar...   \n",
      "17          italian   1420  [italian seasoning, broiler-fryer chicken, may...   \n",
      "18             thai   2941   [sugar, hot chili, asian fish sauce, lime juice]   \n",
      "19       vietnamese   8152  [soy sauce, vegetable oil, red bell pepper, ch...   \n",
      "20             thai  13121  [pork loin, roasted peanuts, chopped cilantro ...   \n",
      "21          mexican  40523  [roma tomatoes, kosher salt, purple onion, jal...   \n",
      "22      southern_us  40989  [low-fat mayonnaise, pepper, salt, baking pota...   \n",
      "23          chinese  29630  [sesame seeds, red pepper, yellow peppers, wat...   \n",
      "24          italian  49136  [marinara sauce, flat leaf parsley, olive oil,...   \n",
      "25          chinese  26705  [sugar, lo mein noodles, salt, chicken broth, ...   \n",
      "26     cajun_creole  27976  [herbs, lemon juice, fresh tomatoes, paprika, ...   \n",
      "27          italian  22087  [ground black pepper, butter, sliced mushrooms...   \n",
      "28          chinese   9197  [green bell pepper, egg roll wrappers, sweet a...   \n",
      "29          mexican   1299  [flour tortillas, cheese, breakfast sausages, ...   \n",
      "...             ...    ...                                                ...   \n",
      "39744         greek   5680  [extra-virgin olive oil, oregano, potatoes, ga...   \n",
      "39745       spanish   5511  [quinoa, extra-virgin olive oil, fresh thyme l...   \n",
      "39746        indian  32051  [clove, bay leaves, ginger, chopped cilantro, ...   \n",
      "39747      moroccan   5119  [water, sugar, grated lemon zest, butter, pitt...   \n",
      "39748       italian   9526  [sea salt, pizza doughs, all-purpose flour, co...   \n",
      "39749       mexican  45599  [kosher salt, minced onion, tortilla chips, su...   \n",
      "39750       mexican  49670  [ground black pepper, chicken breasts, salsa, ...   \n",
      "39751      moroccan  30735  [olive oil, cayenne pepper, chopped cilantro f...   \n",
      "39752   southern_us   5911  [self rising flour, milk, white sugar, butter,...   \n",
      "39753       italian  33294  [rosemary sprigs, lemon zest, garlic cloves, g...   \n",
      "39754    vietnamese  27082  [jasmine rice, bay leaves, sticky rice, rotiss...   \n",
      "39755        indian  36337  [mint leaves, cilantro leaves, ghee, tomatoes,...   \n",
      "39756       mexican  15508  [vegetable oil, cinnamon sticks, water, all-pu...   \n",
      "39757         greek  34331  [red bell pepper, garlic cloves, extra-virgin ...   \n",
      "39758         greek  47387  [milk, salt, ground cayenne pepper, ground lam...   \n",
      "39759        korean  12153  [red chili peppers, sea salt, onions, water, c...   \n",
      "39760   southern_us  41840  [butter, large eggs, cornmeal, baking powder, ...   \n",
      "39761       chinese   6487  [honey, chicken breast halves, cilantro leaves...   \n",
      "39762        indian  26646  [curry powder, salt, chicken, water, vegetable...   \n",
      "39763       italian  44798  [fettuccine pasta, low-fat cream cheese, garli...   \n",
      "39764       mexican   8089  [chili powder, worcestershire sauce, celery, r...   \n",
      "39765        indian   6153  [coconut, unsweetened coconut milk, mint leave...   \n",
      "39766         irish  25557  [rutabaga, ham, thick-cut bacon, potatoes, fre...   \n",
      "39767       italian  24348  [low-fat sour cream, grated parmesan cheese, s...   \n",
      "39768       mexican   7377  [shredded cheddar cheese, crushed cheese crack...   \n",
      "39769         irish  29109  [light brown sugar, granulated sugar, butter, ...   \n",
      "39770       italian  11462  [KRAFT Zesty Italian Dressing, purple onion, b...   \n",
      "39771         irish   2238  [eggs, citrus fruit, raisins, sourdough starte...   \n",
      "39772       chinese  41882  [boneless chicken skinless thigh, minced garli...   \n",
      "39773       mexican   2362  [green chile, jalapeno chilies, onions, ground...   \n",
      "\n",
      "                                     process_ingredients  \n",
      "0      romaine lettuce black olives grape tomatoes ga...  \n",
      "1      plain flour ground pepper salt tomato ground b...  \n",
      "2      egg pepper salt mayonaise cooking oil green ch...  \n",
      "3                         water vegetable oil wheat salt  \n",
      "4      black pepper shallot cornflour cayenne pepper ...  \n",
      "5      plain flour sugar butter egg fresh ginger root...  \n",
      "6      olive oil salt medium shrimp pepper garlic cho...  \n",
      "7      sugar pistachio nuts white almond bark flour v...  \n",
      "8      olive oil purple onion fresh pineapple pork po...  \n",
      "9      chopped tomatoes fresh basil garlic extra virg...  \n",
      "10     pimento sweet pepper dried oregano olive oil g...  \n",
      "11     low sodium soy sauce fresh ginger dry mustard ...  \n",
      "12     Italian parsley leaves walnut hot red pepper f...  \n",
      "13     ground cinnamon fresh cilantro chili powder gr...  \n",
      "14     fresh parmesan cheese butter all purpose flour...  \n",
      "15     tumeric vegetable stock tomato garam masala na...  \n",
      "16     greek yogurt lemon curd confectioners sugar ra...  \n",
      "17     italian seasoning broiler fryer chicken mayona...  \n",
      "18           sugar hot chili asian fish sauce lime juice  \n",
      "19     soy sauce vegetable oil red bell pepper chicke...  \n",
      "20     pork loin roasted peanuts chopped cilantro fre...  \n",
      "21     roma tomatoes kosher salt purple onion jalapen...  \n",
      "22     low fat mayonnaise pepper salt baking potatoes...  \n",
      "23     sesame seeds red pepper yellow peppers water e...  \n",
      "24     marinara sauce flat leaf parsley olive oil lin...  \n",
      "25     sugar lo mein noodles salt chicken broth light...  \n",
      "26     herb lemon juice fresh tomatoes paprika mango ...  \n",
      "27     ground black pepper butter sliced mushrooms sh...  \n",
      "28     green bell pepper egg roll wrappers sweet and ...  \n",
      "29     flour tortillas cheese breakfast sausages larg...  \n",
      "...                                                  ...  \n",
      "39744  extra virgin olive oil oregano potato garlic c...  \n",
      "39745  quinoa extra virgin olive oil fresh thyme leav...  \n",
      "39746  clove bay leaves ginger chopped cilantro groun...  \n",
      "39747  water sugar grated lemon zest butter pitted da...  \n",
      "39748  sea salt pizza doughs all purpose flour cornme...  \n",
      "39749  kosher salt minced onion tortilla chips sugar ...  \n",
      "39750  ground black pepper chicken breasts salsa ched...  \n",
      "39751  olive oil cayenne pepper chopped cilantro fres...  \n",
      "39752  self rising flour milk white sugar butter peac...  \n",
      "39753  rosemary sprigs lemon zest garlic cloves groun...  \n",
      "39754  jasmine rice bay leaves sticky rice rotisserie...  \n",
      "39755  mint leaves cilantro leaves ghee tomato cinnam...  \n",
      "39756  vegetable oil cinnamon sticks water all purpos...  \n",
      "39757  red bell pepper garlic cloves extra virgin oli...  \n",
      "39758  milk salt ground cayenne pepper ground lamb gr...  \n",
      "39759  red chili peppers sea salt onion water chilli ...  \n",
      "39760  butter large eggs cornmeal baking powder boili...  \n",
      "39761  honey chicken breast halves cilantro leaves ca...  \n",
      "39762  curry powder salt chicken water vegetable oil ...  \n",
      "39763  fettuccine pasta low fat cream cheese garlic n...  \n",
      "39764  chili powder worcestershire sauce celery red k...  \n",
      "39765  coconut unsweetened coconut milk mint leaves p...  \n",
      "39766  rutabaga ham thick cut bacon potato fresh pars...  \n",
      "39767  low fat sour cream grated parmesan cheese salt...  \n",
      "39768  shredded cheddar cheese crushed cheese cracker...  \n",
      "39769  light brown sugar granulated sugar butter warm...  \n",
      "39770  KRAFT Zesty Italian Dressing purple onion broc...  \n",
      "39771  egg citrus fruit raisin sourdough starter flou...  \n",
      "39772  boneless chicken skinless thigh minced garlic ...  \n",
      "39773  green chile jalapeno chilies onion ground blac...  \n",
      "\n",
      "[39774 rows x 4 columns]\n"
     ]
    }
   ],
   "source": [
    "from nltk.stem import WordNetLemmatizer\n",
    "import re\n",
    "#data_train['process_ingredients'] = [' , '.join(z).strip() for z in data_train['ingredients']]\n",
    "data_train['process_ingredients'] = [' '.join([WordNetLemmatizer().lemmatize(re.sub('[^A-Za-z]', ' ', line)) for line in lists]).strip() for lists in data_train['ingredients']] \n",
    "#data_train = data_train.drop(columns=['process_ingredients'])\n",
    "#pprint(data_train.head())\n",
    "pprint(data_train)"
   ]
  },
  {
   "cell_type": "code",
   "execution_count": 40,
   "metadata": {},
   "outputs": [
    {
     "name": "stdout",
     "output_type": "stream",
     "text": [
      "            cuisine     id                                process_ingredients\n",
      "0             greek  10259  romaine lettuce black olives grape tomatoes ga...\n",
      "1       southern_us  25693  plain flour ground pepper salt tomato ground b...\n",
      "2          filipino  20130  egg pepper salt mayonaise cooking oil green ch...\n",
      "3            indian  22213                     water vegetable oil wheat salt\n",
      "4            indian  13162  black pepper shallot cornflour cayenne pepper ...\n",
      "5          jamaican   6602  plain flour sugar butter egg fresh ginger root...\n",
      "6           spanish  42779  olive oil salt medium shrimp pepper garlic cho...\n",
      "7           italian   3735  sugar pistachio nuts white almond bark flour v...\n",
      "8           mexican  16903  olive oil purple onion fresh pineapple pork po...\n",
      "9           italian  12734  chopped tomatoes fresh basil garlic extra virg...\n",
      "10          italian   5875  pimento sweet pepper dried oregano olive oil g...\n",
      "11          chinese  45887  low sodium soy sauce fresh ginger dry mustard ...\n",
      "12          italian   2698  Italian parsley leaves walnut hot red pepper f...\n",
      "13          mexican  41995  ground cinnamon fresh cilantro chili powder gr...\n",
      "14          italian  31908  fresh parmesan cheese butter all purpose flour...\n",
      "15           indian  24717  tumeric vegetable stock tomato garam masala na...\n",
      "16          british  34466  greek yogurt lemon curd confectioners sugar ra...\n",
      "17          italian   1420  italian seasoning broiler fryer chicken mayona...\n",
      "18             thai   2941        sugar hot chili asian fish sauce lime juice\n",
      "19       vietnamese   8152  soy sauce vegetable oil red bell pepper chicke...\n",
      "20             thai  13121  pork loin roasted peanuts chopped cilantro fre...\n",
      "21          mexican  40523  roma tomatoes kosher salt purple onion jalapen...\n",
      "22      southern_us  40989  low fat mayonnaise pepper salt baking potatoes...\n",
      "23          chinese  29630  sesame seeds red pepper yellow peppers water e...\n",
      "24          italian  49136  marinara sauce flat leaf parsley olive oil lin...\n",
      "25          chinese  26705  sugar lo mein noodles salt chicken broth light...\n",
      "26     cajun_creole  27976  herb lemon juice fresh tomatoes paprika mango ...\n",
      "27          italian  22087  ground black pepper butter sliced mushrooms sh...\n",
      "28          chinese   9197  green bell pepper egg roll wrappers sweet and ...\n",
      "29          mexican   1299  flour tortillas cheese breakfast sausages larg...\n",
      "...             ...    ...                                                ...\n",
      "39744         greek   5680  extra virgin olive oil oregano potato garlic c...\n",
      "39745       spanish   5511  quinoa extra virgin olive oil fresh thyme leav...\n",
      "39746        indian  32051  clove bay leaves ginger chopped cilantro groun...\n",
      "39747      moroccan   5119  water sugar grated lemon zest butter pitted da...\n",
      "39748       italian   9526  sea salt pizza doughs all purpose flour cornme...\n",
      "39749       mexican  45599  kosher salt minced onion tortilla chips sugar ...\n",
      "39750       mexican  49670  ground black pepper chicken breasts salsa ched...\n",
      "39751      moroccan  30735  olive oil cayenne pepper chopped cilantro fres...\n",
      "39752   southern_us   5911  self rising flour milk white sugar butter peac...\n",
      "39753       italian  33294  rosemary sprigs lemon zest garlic cloves groun...\n",
      "39754    vietnamese  27082  jasmine rice bay leaves sticky rice rotisserie...\n",
      "39755        indian  36337  mint leaves cilantro leaves ghee tomato cinnam...\n",
      "39756       mexican  15508  vegetable oil cinnamon sticks water all purpos...\n",
      "39757         greek  34331  red bell pepper garlic cloves extra virgin oli...\n",
      "39758         greek  47387  milk salt ground cayenne pepper ground lamb gr...\n",
      "39759        korean  12153  red chili peppers sea salt onion water chilli ...\n",
      "39760   southern_us  41840  butter large eggs cornmeal baking powder boili...\n",
      "39761       chinese   6487  honey chicken breast halves cilantro leaves ca...\n",
      "39762        indian  26646  curry powder salt chicken water vegetable oil ...\n",
      "39763       italian  44798  fettuccine pasta low fat cream cheese garlic n...\n",
      "39764       mexican   8089  chili powder worcestershire sauce celery red k...\n",
      "39765        indian   6153  coconut unsweetened coconut milk mint leaves p...\n",
      "39766         irish  25557  rutabaga ham thick cut bacon potato fresh pars...\n",
      "39767       italian  24348  low fat sour cream grated parmesan cheese salt...\n",
      "39768       mexican   7377  shredded cheddar cheese crushed cheese cracker...\n",
      "39769         irish  29109  light brown sugar granulated sugar butter warm...\n",
      "39770       italian  11462  KRAFT Zesty Italian Dressing purple onion broc...\n",
      "39771         irish   2238  egg citrus fruit raisin sourdough starter flou...\n",
      "39772       chinese  41882  boneless chicken skinless thigh minced garlic ...\n",
      "39773       mexican   2362  green chile jalapeno chilies onion ground blac...\n",
      "\n",
      "[39774 rows x 3 columns]\n"
     ]
    }
   ],
   "source": [
    "data_train = data_train.drop(columns=['ingredients'])\n",
    "pprint(data_train)"
   ]
  },
  {
   "cell_type": "code",
   "execution_count": 42,
   "metadata": {},
   "outputs": [],
   "source": [
    " data_train = data_train.rename(index=str, columns={\"process_ingredients\": \"ingredients\"})"
   ]
  },
  {
   "cell_type": "code",
   "execution_count": 43,
   "metadata": {},
   "outputs": [
    {
     "name": "stdout",
     "output_type": "stream",
     "text": [
      "       cuisine     id                                        ingredients\n",
      "0        greek  10259  romaine lettuce black olives grape tomatoes ga...\n",
      "1  southern_us  25693  plain flour ground pepper salt tomato ground b...\n",
      "2     filipino  20130  egg pepper salt mayonaise cooking oil green ch...\n",
      "3       indian  22213                     water vegetable oil wheat salt\n",
      "4       indian  13162  black pepper shallot cornflour cayenne pepper ...\n"
     ]
    }
   ],
   "source": [
    "pprint (data_train.head())"
   ]
  },
  {
   "cell_type": "code",
   "execution_count": 45,
   "metadata": {},
   "outputs": [
    {
     "name": "stdout",
     "output_type": "stream",
     "text": [
      "[nltk_data] Downloading package stopwords to C:\\nltk_data...\n",
      "[nltk_data]   Package stopwords is already up-to-date!\n"
     ]
    },
    {
     "data": {
      "text/plain": [
       "True"
      ]
     },
     "execution_count": 45,
     "metadata": {},
     "output_type": "execute_result"
    }
   ],
   "source": [
    "import nltk\n",
    "nltk.download('stopwords')"
   ]
  },
  {
   "cell_type": "code",
   "execution_count": 49,
   "metadata": {},
   "outputs": [],
   "source": [
    "from nltk.corpus import stopwords\n",
    "from nltk.stem.porter import PorterStemmer\n",
    "#from nltk.stem import WordNetLemmatizer\n",
    "corpus = []\n",
    "for i in range(0, 39774):\n",
    "    item = re.sub('[^a-zA-Z]',' ',data_train['ingredients'][i])\n",
    "    item = item.lower()\n",
    "    item = item.split()\n",
    "    ps = PorterStemmer()\n",
    "    \n",
    "    item = [ps.stem(word) for word in item if not word in set(stopwords.words('english'))]\n",
    "    item = ' '.join(item)\n",
    "    corpus.append(item)"
   ]
  },
  {
   "cell_type": "code",
   "execution_count": 62,
   "metadata": {},
   "outputs": [],
   "source": [
    "#Bag of Words Model\n",
    "from sklearn.feature_extraction.text import CountVectorizer\n",
    "from sklearn.preprocessing import LabelEncoder\n",
    "\n",
    "cv = CountVectorizer()\n",
    "X = cv.fit_transform(corpus).toarray()\n",
    "\n",
    "labelencoder_y = LabelEncoder()\n",
    "y = labelencoder_y.fit_transform(data_train['cuisine'])"
   ]
  },
  {
   "cell_type": "code",
   "execution_count": 66,
   "metadata": {},
   "outputs": [
    {
     "name": "stdout",
     "output_type": "stream",
     "text": [
      "[69  0  0  0  5  2  3  1  2  1 12  0  1  3  2  2  1  1  1  1]\n"
     ]
    }
   ],
   "source": [
    "# Splitting the dataset into the Training set and Validation set\n",
    "from sklearn.cross_validation import train_test_split\n",
    "X_train, X_test, y_train, y_test = train_test_split(X, y, test_size = 0.20, random_state = 0)\n",
    "\n",
    "# Fitting Multinomial Naive Bayes Model to the Training set\n",
    "from sklearn.naive_bayes import GaussianNB\n",
    "classifier = GaussianNB()\n",
    "classifier.fit(X_train, y_train)\n",
    "\n",
    "#Predicting for validation set results\n",
    "y_pred = classifier.predict(X_test)\n",
    "\n",
    "# Making the Confusion Matrix\n",
    "from sklearn.metrics import confusion_matrix\n",
    "cm = confusion_matrix(y_test, y_pred)\n",
    "print (cm[0])"
   ]
  },
  {
   "cell_type": "code",
   "execution_count": 70,
   "metadata": {},
   "outputs": [
    {
     "name": "stdout",
     "output_type": "stream",
     "text": [
      "[69  0  0  0  5  2  3  1  2  1 12  0  1  3  2  2  1  1  1  1]\n",
      "[20 28  2  2  7  7  2  1 20  1 36  0  2  0  3 29  1  5  0  0]\n",
      "[ 30   4 139   1  11   0   1   1   8   2  43   1   0   6   1   9   7   5\n",
      "   1   0]\n",
      "[ 20   3   0  74  92   2   2   2   1   0  44   7 179   3   6   6   2   2\n",
      "  42  74]\n",
      "[17  1  2  2 45  1  0  0  0  1 36  2 18  1  3  2  0  0  3  6]\n",
      "[81 35  9  0  8 80 14  2 28  7 69  1  8  1 49 70  6 49  0  6]\n",
      "[ 25   2   2   0   2   1  41   2   3   6  22   0   1   3 103  26   2   2\n",
      "   0   3]\n",
      "[ 41  15   1   1   7   2   3 206   2   5 174   5   3   0 138  13   1   2\n",
      "  10   8]\n",
      "[16  9  1  1  3  1  0  2 33  3 33  0  5  0  2 10  1  0  0  1]\n",
      "[169  41  80   7  15  69 249   2  31 203 160   6  17  10 177 125  11 159\n",
      "   9  11]\n",
      "[15  2  0  0  2  1  0  1  2  0 92  0  0  5  1  0  0  1  0  0]\n",
      "[  6   1   0   5   6   0   1  11   0   0  24  73 122   2   4   2   2   1\n",
      "   5  10]\n",
      "[  0   0   1   3   2   0   0   0   0   0   5   7 120   1   0   0   0   0\n",
      "   3   3]\n",
      "[227   5 106   4  54   3  27   5  14   5 276   1  24 365   6   9  10 150\n",
      "  15  11]\n",
      "[16  2  0  0  1  1  2  7  1  0 24  1  0  1 98  3  0  4  0  0]\n",
      "[ 8  5  1  0  0  3  3  0  5  0 19  0  1  1  1 43  0  1  0  1]\n",
      "[136  34 102   4  22  12  11   7 100   9 219   4  16   6  18  61  51  34\n",
      "   4   2]\n",
      "[55  3  3  0  6  8  9  2  2  3 30  0  8  1 25 11  2 29  1  1]\n",
      "[24  1  0  5 30  0  1  4  1  2 37  3 47  0  7  1  0  0 48 95]\n",
      "[12  0  1  1 17  2  0  1  0  1 17  2 30  1  1  0  0  0  8 70]\n"
     ]
    }
   ],
   "source": [
    "import numpy as np\n",
    "for i in range(0,np.size(cm,0)):\n",
    "    print (cm[i])"
   ]
  },
  {
   "cell_type": "code",
   "execution_count": 71,
   "metadata": {},
   "outputs": [],
   "source": [
    "accuracy = (cm[0][0] + cm[1][1])/(cm[0][0] + cm[1][1] + cm[0][1] + cm[1][0])\n",
    "precision = cm[1][1]/(cm[1][1] + cm[0][1])\n",
    "recall = cm[1][1]/ (cm[1][1] + cm[1][0])\n",
    "f1_score = (2 * precision * recall) / (precision + recall)"
   ]
  },
  {
   "cell_type": "code",
   "execution_count": 72,
   "metadata": {},
   "outputs": [
    {
     "name": "stdout",
     "output_type": "stream",
     "text": [
      "0.8290598290598291\n"
     ]
    }
   ],
   "source": [
    "print (accuracy)"
   ]
  },
  {
   "cell_type": "code",
   "execution_count": null,
   "metadata": {},
   "outputs": [],
   "source": []
  }
 ],
 "metadata": {
  "kernelspec": {
   "display_name": "Python 3",
   "language": "python",
   "name": "python3"
  },
  "language_info": {
   "codemirror_mode": {
    "name": "ipython",
    "version": 3
   },
   "file_extension": ".py",
   "mimetype": "text/x-python",
   "name": "python",
   "nbconvert_exporter": "python",
   "pygments_lexer": "ipython3",
   "version": "3.6.4"
  }
 },
 "nbformat": 4,
 "nbformat_minor": 2
}
